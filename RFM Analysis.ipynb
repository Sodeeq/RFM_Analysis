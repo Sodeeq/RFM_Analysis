{
 "cells": [
  {
   "cell_type": "code",
   "execution_count": 3,
   "metadata": {},
   "outputs": [],
   "source": [
    "import pandas as pd\n",
    "import numpy as np\n",
    "import matplotlib.pyplot as plt\n",
    "import seaborn as sns"
   ]
  },
  {
   "cell_type": "code",
   "execution_count": 4,
   "metadata": {},
   "outputs": [],
   "source": [
    "cols = ['Transaction','Customer','Date','Amount']\n",
    "cus = pd.read_excel('C:/Users/Sherad/Python Scripts/Files/04_RFM.xlsx', sheet_name='RFM_initial',usecols=cols,skiprows=3)"
   ]
  },
  {
   "cell_type": "code",
   "execution_count": 5,
   "metadata": {},
   "outputs": [
    {
     "data": {
      "text/html": [
       "<div>\n",
       "<style scoped>\n",
       "    .dataframe tbody tr th:only-of-type {\n",
       "        vertical-align: middle;\n",
       "    }\n",
       "\n",
       "    .dataframe tbody tr th {\n",
       "        vertical-align: top;\n",
       "    }\n",
       "\n",
       "    .dataframe thead th {\n",
       "        text-align: right;\n",
       "    }\n",
       "</style>\n",
       "<table border=\"1\" class=\"dataframe\">\n",
       "  <thead>\n",
       "    <tr style=\"text-align: right;\">\n",
       "      <th></th>\n",
       "      <th>Transaction</th>\n",
       "      <th>Customer</th>\n",
       "      <th>Date</th>\n",
       "      <th>Amount</th>\n",
       "    </tr>\n",
       "  </thead>\n",
       "  <tbody>\n",
       "    <tr>\n",
       "      <th>0</th>\n",
       "      <td>1</td>\n",
       "      <td>4184</td>\n",
       "      <td>2016-09-03</td>\n",
       "      <td>30</td>\n",
       "    </tr>\n",
       "    <tr>\n",
       "      <th>1</th>\n",
       "      <td>2</td>\n",
       "      <td>3657</td>\n",
       "      <td>2018-10-05</td>\n",
       "      <td>34</td>\n",
       "    </tr>\n",
       "    <tr>\n",
       "      <th>2</th>\n",
       "      <td>3</td>\n",
       "      <td>1011</td>\n",
       "      <td>2016-09-18</td>\n",
       "      <td>47</td>\n",
       "    </tr>\n",
       "    <tr>\n",
       "      <th>3</th>\n",
       "      <td>4</td>\n",
       "      <td>106</td>\n",
       "      <td>2015-06-08</td>\n",
       "      <td>94</td>\n",
       "    </tr>\n",
       "    <tr>\n",
       "      <th>4</th>\n",
       "      <td>5</td>\n",
       "      <td>739</td>\n",
       "      <td>2017-06-12</td>\n",
       "      <td>73</td>\n",
       "    </tr>\n",
       "  </tbody>\n",
       "</table>\n",
       "</div>"
      ],
      "text/plain": [
       "   Transaction  Customer       Date  Amount\n",
       "0            1      4184 2016-09-03      30\n",
       "1            2      3657 2018-10-05      34\n",
       "2            3      1011 2016-09-18      47\n",
       "3            4       106 2015-06-08      94\n",
       "4            5       739 2017-06-12      73"
      ]
     },
     "execution_count": 5,
     "metadata": {},
     "output_type": "execute_result"
    }
   ],
   "source": [
    "cus.head()"
   ]
  },
  {
   "cell_type": "code",
   "execution_count": 6,
   "metadata": {},
   "outputs": [
    {
     "name": "stdout",
     "output_type": "stream",
     "text": [
      "<class 'pandas.core.frame.DataFrame'>\n",
      "RangeIndex: 100000 entries, 0 to 99999\n",
      "Data columns (total 4 columns):\n",
      " #   Column       Non-Null Count   Dtype         \n",
      "---  ------       --------------   -----         \n",
      " 0   Transaction  100000 non-null  int64         \n",
      " 1   Customer     100000 non-null  int64         \n",
      " 2   Date         100000 non-null  datetime64[ns]\n",
      " 3   Amount       100000 non-null  int64         \n",
      "dtypes: datetime64[ns](1), int64(3)\n",
      "memory usage: 3.1 MB\n"
     ]
    }
   ],
   "source": [
    "cus.info()"
   ]
  },
  {
   "cell_type": "code",
   "execution_count": 8,
   "metadata": {},
   "outputs": [
    {
     "data": {
      "text/plain": [
       "<seaborn.axisgrid.FacetGrid at 0x1778f3dd3d0>"
      ]
     },
     "execution_count": 8,
     "metadata": {},
     "output_type": "execute_result"
    },
    {
     "data": {
      "image/png": "[encoded data removed]",
      "text/plain": [
       "<Figure size 360x360 with 1 Axes>"
      ]
     },
     "metadata": {
      "needs_background": "light"
     },
     "output_type": "display_data"
    }
   ],
   "source": [
    "sns.displot(data = cus, x= 'Amount', kde = 'kind')"
   ]
  },
  {
   "cell_type": "code",
   "execution_count": 9,
   "metadata": {},
   "outputs": [],
   "source": [
    "import datetime as dt"
   ]
  },
  {
   "cell_type": "code",
   "execution_count": 10,
   "metadata": {},
   "outputs": [],
   "source": [
    "cus['month'] = cus['Date'].dt.month\n",
    "cus['year'] = cus['Date'].dt.year"
   ]
  },
  {
   "cell_type": "code",
   "execution_count": 11,
   "metadata": {},
   "outputs": [
    {
     "data": {
      "text/html": [
       "<div>\n",
       "<style scoped>\n",
       "    .dataframe tbody tr th:only-of-type {\n",
       "        vertical-align: middle;\n",
       "    }\n",
       "\n",
       "    .dataframe tbody tr th {\n",
       "        vertical-align: top;\n",
       "    }\n",
       "\n",
       "    .dataframe thead th {\n",
       "        text-align: right;\n",
       "    }\n",
       "</style>\n",
       "<table border=\"1\" class=\"dataframe\">\n",
       "  <thead>\n",
       "    <tr style=\"text-align: right;\">\n",
       "      <th></th>\n",
       "      <th>Transaction</th>\n",
       "      <th>Customer</th>\n",
       "      <th>Date</th>\n",
       "      <th>Amount</th>\n",
       "      <th>month</th>\n",
       "      <th>year</th>\n",
       "    </tr>\n",
       "  </thead>\n",
       "  <tbody>\n",
       "    <tr>\n",
       "      <th>0</th>\n",
       "      <td>1</td>\n",
       "      <td>4184</td>\n",
       "      <td>2016-09-03</td>\n",
       "      <td>30</td>\n",
       "      <td>9</td>\n",
       "      <td>2016</td>\n",
       "    </tr>\n",
       "    <tr>\n",
       "      <th>1</th>\n",
       "      <td>2</td>\n",
       "      <td>3657</td>\n",
       "      <td>2018-10-05</td>\n",
       "      <td>34</td>\n",
       "      <td>10</td>\n",
       "      <td>2018</td>\n",
       "    </tr>\n",
       "    <tr>\n",
       "      <th>2</th>\n",
       "      <td>3</td>\n",
       "      <td>1011</td>\n",
       "      <td>2016-09-18</td>\n",
       "      <td>47</td>\n",
       "      <td>9</td>\n",
       "      <td>2016</td>\n",
       "    </tr>\n",
       "    <tr>\n",
       "      <th>3</th>\n",
       "      <td>4</td>\n",
       "      <td>106</td>\n",
       "      <td>2015-06-08</td>\n",
       "      <td>94</td>\n",
       "      <td>6</td>\n",
       "      <td>2015</td>\n",
       "    </tr>\n",
       "    <tr>\n",
       "      <th>4</th>\n",
       "      <td>5</td>\n",
       "      <td>739</td>\n",
       "      <td>2017-06-12</td>\n",
       "      <td>73</td>\n",
       "      <td>6</td>\n",
       "      <td>2017</td>\n",
       "    </tr>\n",
       "  </tbody>\n",
       "</table>\n",
       "</div>"
      ],
      "text/plain": [
       "   Transaction  Customer       Date  Amount  month  year\n",
       "0            1      4184 2016-09-03      30      9  2016\n",
       "1            2      3657 2018-10-05      34     10  2018\n",
       "2            3      1011 2016-09-18      47      9  2016\n",
       "3            4       106 2015-06-08      94      6  2015\n",
       "4            5       739 2017-06-12      73      6  2017"
      ]
     },
     "execution_count": 11,
     "metadata": {},
     "output_type": "execute_result"
    }
   ],
   "source": [
    "cus.head()"
   ]
  },
  {
   "cell_type": "code",
   "execution_count": 12,
   "metadata": {},
   "outputs": [],
   "source": [
    "import calendar"
   ]
  },
  {
   "cell_type": "code",
   "execution_count": 13,
   "metadata": {},
   "outputs": [],
   "source": [
    "cus['month_name'] = cus['month'].apply(lambda x: calendar.month_abbr[x])"
   ]
  },
  {
   "cell_type": "code",
   "execution_count": 16,
   "metadata": {},
   "outputs": [
    {
     "data": {
      "text/html": [
       "<div>\n",
       "<style scoped>\n",
       "    .dataframe tbody tr th:only-of-type {\n",
       "        vertical-align: middle;\n",
       "    }\n",
       "\n",
       "    .dataframe tbody tr th {\n",
       "        vertical-align: top;\n",
       "    }\n",
       "\n",
       "    .dataframe thead th {\n",
       "        text-align: right;\n",
       "    }\n",
       "</style>\n",
       "<table border=\"1\" class=\"dataframe\">\n",
       "  <thead>\n",
       "    <tr style=\"text-align: right;\">\n",
       "      <th></th>\n",
       "      <th>month</th>\n",
       "      <th>month_name</th>\n",
       "      <th>Amount</th>\n",
       "    </tr>\n",
       "  </thead>\n",
       "  <tbody>\n",
       "    <tr>\n",
       "      <th>0</th>\n",
       "      <td>1</td>\n",
       "      <td>Jan</td>\n",
       "      <td>574790</td>\n",
       "    </tr>\n",
       "    <tr>\n",
       "      <th>1</th>\n",
       "      <td>2</td>\n",
       "      <td>Feb</td>\n",
       "      <td>527885</td>\n",
       "    </tr>\n",
       "    <tr>\n",
       "      <th>2</th>\n",
       "      <td>3</td>\n",
       "      <td>Mar</td>\n",
       "      <td>582855</td>\n",
       "    </tr>\n",
       "    <tr>\n",
       "      <th>3</th>\n",
       "      <td>4</td>\n",
       "      <td>Apr</td>\n",
       "      <td>560105</td>\n",
       "    </tr>\n",
       "    <tr>\n",
       "      <th>4</th>\n",
       "      <td>5</td>\n",
       "      <td>May</td>\n",
       "      <td>577867</td>\n",
       "    </tr>\n",
       "    <tr>\n",
       "      <th>5</th>\n",
       "      <td>6</td>\n",
       "      <td>Jun</td>\n",
       "      <td>551181</td>\n",
       "    </tr>\n",
       "    <tr>\n",
       "      <th>6</th>\n",
       "      <td>7</td>\n",
       "      <td>Jul</td>\n",
       "      <td>576481</td>\n",
       "    </tr>\n",
       "    <tr>\n",
       "      <th>7</th>\n",
       "      <td>8</td>\n",
       "      <td>Aug</td>\n",
       "      <td>576811</td>\n",
       "    </tr>\n",
       "    <tr>\n",
       "      <th>8</th>\n",
       "      <td>9</td>\n",
       "      <td>Sep</td>\n",
       "      <td>553294</td>\n",
       "    </tr>\n",
       "    <tr>\n",
       "      <th>9</th>\n",
       "      <td>10</td>\n",
       "      <td>Oct</td>\n",
       "      <td>458773</td>\n",
       "    </tr>\n",
       "    <tr>\n",
       "      <th>10</th>\n",
       "      <td>11</td>\n",
       "      <td>Nov</td>\n",
       "      <td>416880</td>\n",
       "    </tr>\n",
       "    <tr>\n",
       "      <th>11</th>\n",
       "      <td>12</td>\n",
       "      <td>Dec</td>\n",
       "      <td>552018</td>\n",
       "    </tr>\n",
       "  </tbody>\n",
       "</table>\n",
       "</div>"
      ],
      "text/plain": [
       "    month month_name  Amount\n",
       "0       1        Jan  574790\n",
       "1       2        Feb  527885\n",
       "2       3        Mar  582855\n",
       "3       4        Apr  560105\n",
       "4       5        May  577867\n",
       "5       6        Jun  551181\n",
       "6       7        Jul  576481\n",
       "7       8        Aug  576811\n",
       "8       9        Sep  553294\n",
       "9      10        Oct  458773\n",
       "10     11        Nov  416880\n",
       "11     12        Dec  552018"
      ]
     },
     "execution_count": 16,
     "metadata": {},
     "output_type": "execute_result"
    }
   ],
   "source": [
    "monthly = cus.groupby(['month','month_name'],sort=True).sum()['Amount'].reset_index()\n",
    "monthly"
   ]
  },
  {
   "cell_type": "code",
   "execution_count": 20,
   "metadata": {},
   "outputs": [
    {
     "data": {
      "text/plain": [
       "<AxesSubplot:xlabel='month_name', ylabel='Amount'>"
      ]
     },
     "execution_count": 20,
     "metadata": {},
     "output_type": "execute_result"
    },
    {
     "data": {
      "image/png": "[encoded data removed]",
      "text/plain": [
       "<Figure size 432x288 with 1 Axes>"
      ]
     },
     "metadata": {
      "needs_background": "light"
     },
     "output_type": "display_data"
    }
   ],
   "source": [
    "sns.barplot(data=monthly,x='month_name',y='Amount',color='Orange')"
   ]
  },
  {
   "cell_type": "code",
   "execution_count": 23,
   "metadata": {},
   "outputs": [
    {
     "data": {
      "text/html": [
       "<div>\n",
       "<style scoped>\n",
       "    .dataframe tbody tr th:only-of-type {\n",
       "        vertical-align: middle;\n",
       "    }\n",
       "\n",
       "    .dataframe tbody tr th {\n",
       "        vertical-align: top;\n",
       "    }\n",
       "\n",
       "    .dataframe thead th {\n",
       "        text-align: right;\n",
       "    }\n",
       "</style>\n",
       "<table border=\"1\" class=\"dataframe\">\n",
       "  <thead>\n",
       "    <tr style=\"text-align: right;\">\n",
       "      <th></th>\n",
       "      <th>year</th>\n",
       "      <th>Amount</th>\n",
       "    </tr>\n",
       "  </thead>\n",
       "  <tbody>\n",
       "    <tr>\n",
       "      <th>0</th>\n",
       "      <td>2014</td>\n",
       "      <td>126863</td>\n",
       "    </tr>\n",
       "    <tr>\n",
       "      <th>1</th>\n",
       "      <td>2015</td>\n",
       "      <td>1690445</td>\n",
       "    </tr>\n",
       "    <tr>\n",
       "      <th>2</th>\n",
       "      <td>2016</td>\n",
       "      <td>1708252</td>\n",
       "    </tr>\n",
       "    <tr>\n",
       "      <th>3</th>\n",
       "      <td>2017</td>\n",
       "      <td>1688165</td>\n",
       "    </tr>\n",
       "    <tr>\n",
       "      <th>4</th>\n",
       "      <td>2018</td>\n",
       "      <td>1295215</td>\n",
       "    </tr>\n",
       "  </tbody>\n",
       "</table>\n",
       "</div>"
      ],
      "text/plain": [
       "   year   Amount\n",
       "0  2014   126863\n",
       "1  2015  1690445\n",
       "2  2016  1708252\n",
       "3  2017  1688165\n",
       "4  2018  1295215"
      ]
     },
     "execution_count": 23,
     "metadata": {},
     "output_type": "execute_result"
    }
   ],
   "source": [
    "yearly = cus.groupby('year').sum()['Amount'].reset_index()\n",
    "yearly"
   ]
  },
  {
   "cell_type": "code",
   "execution_count": 25,
   "metadata": {},
   "outputs": [
    {
     "data": {
      "text/plain": [
       "<AxesSubplot:xlabel='year', ylabel='Amount'>"
      ]
     },
     "execution_count": 25,
     "metadata": {},
     "output_type": "execute_result"
    },
    {
     "data": {
      "image/png": "[encoded data removed]",
      "text/plain": [
       "<Figure size 432x288 with 1 Axes>"
      ]
     },
     "metadata": {
      "needs_background": "light"
     },
     "output_type": "display_data"
    }
   ],
   "source": [
    "sns.barplot(data=yearly,x='year',y='Amount',color='Grey')"
   ]
  },
  {
   "cell_type": "markdown",
   "metadata": {},
   "source": [
    "Count of transactions per year"
   ]
  },
  {
   "cell_type": "code",
   "execution_count": 28,
   "metadata": {},
   "outputs": [
    {
     "data": {
      "text/plain": [
       "<AxesSubplot:xlabel='year', ylabel='count'>"
      ]
     },
     "execution_count": 28,
     "metadata": {},
     "output_type": "execute_result"
    },
    {
     "data": {
      "image/png": "[encoded data removed]",
      "text/plain": [
       "<Figure size 432x288 with 1 Axes>"
      ]
     },
     "metadata": {
      "needs_background": "light"
     },
     "output_type": "display_data"
    }
   ],
   "source": [
    "sns.countplot(data=cus,x='year',color='Black',)"
   ]
  },
  {
   "cell_type": "code",
   "execution_count": 29,
   "metadata": {},
   "outputs": [
    {
     "data": {
      "text/plain": [
       "Timestamp('2018-10-06 00:00:00')"
      ]
     },
     "execution_count": 29,
     "metadata": {},
     "output_type": "execute_result"
    }
   ],
   "source": [
    "cus['Date'].max()"
   ]
  },
  {
   "cell_type": "markdown",
   "metadata": {},
   "source": [
    "taking the analysis date as 5 days after the last date on the dataset"
   ]
  },
  {
   "cell_type": "code",
   "execution_count": 30,
   "metadata": {},
   "outputs": [
    {
     "data": {
      "text/plain": [
       "Timestamp('2018-10-11 00:00:00')"
      ]
     },
     "execution_count": 30,
     "metadata": {},
     "output_type": "execute_result"
    }
   ],
   "source": [
    "end = cus['Date'].max() + dt.timedelta(5)\n",
    "end"
   ]
  },
  {
   "cell_type": "code",
   "execution_count": 37,
   "metadata": {},
   "outputs": [],
   "source": [
    "cus2 = cus.groupby('Customer',sort=True).agg({\n",
    "    'Date':'max',\n",
    "    'Transaction':'count',\n",
    "    'Amount':'sum'\n",
    "}).reset_index()"
   ]
  },
  {
   "cell_type": "code",
   "execution_count": 39,
   "metadata": {},
   "outputs": [
    {
     "data": {
      "text/html": [
       "<div>\n",
       "<style scoped>\n",
       "    .dataframe tbody tr th:only-of-type {\n",
       "        vertical-align: middle;\n",
       "    }\n",
       "\n",
       "    .dataframe tbody tr th {\n",
       "        vertical-align: top;\n",
       "    }\n",
       "\n",
       "    .dataframe thead th {\n",
       "        text-align: right;\n",
       "    }\n",
       "</style>\n",
       "<table border=\"1\" class=\"dataframe\">\n",
       "  <thead>\n",
       "    <tr style=\"text-align: right;\">\n",
       "      <th></th>\n",
       "      <th>Customer</th>\n",
       "      <th>Date</th>\n",
       "      <th>Transaction</th>\n",
       "      <th>Amount</th>\n",
       "    </tr>\n",
       "  </thead>\n",
       "  <tbody>\n",
       "    <tr>\n",
       "      <th>0</th>\n",
       "      <td>1</td>\n",
       "      <td>2018-08-06</td>\n",
       "      <td>15</td>\n",
       "      <td>937</td>\n",
       "    </tr>\n",
       "    <tr>\n",
       "      <th>1</th>\n",
       "      <td>2</td>\n",
       "      <td>2018-09-01</td>\n",
       "      <td>20</td>\n",
       "      <td>1390</td>\n",
       "    </tr>\n",
       "    <tr>\n",
       "      <th>2</th>\n",
       "      <td>3</td>\n",
       "      <td>2018-09-04</td>\n",
       "      <td>19</td>\n",
       "      <td>1337</td>\n",
       "    </tr>\n",
       "    <tr>\n",
       "      <th>3</th>\n",
       "      <td>4</td>\n",
       "      <td>2018-09-25</td>\n",
       "      <td>22</td>\n",
       "      <td>1549</td>\n",
       "    </tr>\n",
       "    <tr>\n",
       "      <th>4</th>\n",
       "      <td>5</td>\n",
       "      <td>2018-03-17</td>\n",
       "      <td>13</td>\n",
       "      <td>792</td>\n",
       "    </tr>\n",
       "  </tbody>\n",
       "</table>\n",
       "</div>"
      ],
      "text/plain": [
       "   Customer       Date  Transaction  Amount\n",
       "0         1 2018-08-06           15     937\n",
       "1         2 2018-09-01           20    1390\n",
       "2         3 2018-09-04           19    1337\n",
       "3         4 2018-09-25           22    1549\n",
       "4         5 2018-03-17           13     792"
      ]
     },
     "execution_count": 39,
     "metadata": {},
     "output_type": "execute_result"
    }
   ],
   "source": [
    "cus2.head()"
   ]
  },
  {
   "cell_type": "code",
   "execution_count": 42,
   "metadata": {},
   "outputs": [
    {
     "data": {
      "text/plain": [
       "<AxesSubplot:>"
      ]
     },
     "execution_count": 42,
     "metadata": {},
     "output_type": "execute_result"
    },
    {
     "data": {
      "image/png": "[encoded data removed]",
      "text/plain": [
       "<Figure size 432x288 with 1 Axes>"
      ]
     },
     "metadata": {
      "needs_background": "light"
     },
     "output_type": "display_data"
    }
   ],
   "source": [
    "# number of days since last purchase\n",
    "cus2['days_since_last_purchase'] = (end - cus2['Date']).dt.days\n",
    "cus2['days_since_last_purchase'].hist()"
   ]
  },
  {
   "cell_type": "code",
   "execution_count": 43,
   "metadata": {},
   "outputs": [
    {
     "data": {
      "text/plain": [
       "<AxesSubplot:>"
      ]
     },
     "execution_count": 43,
     "metadata": {},
     "output_type": "execute_result"
    },
    {
     "data": {
      "image/png": "[encoded data removed]",
      "text/plain": [
       "<Figure size 432x288 with 1 Axes>"
      ]
     },
     "metadata": {
      "needs_background": "light"
     },
     "output_type": "display_data"
    }
   ],
   "source": [
    "cus2['Transaction'].hist()"
   ]
  },
  {
   "cell_type": "code",
   "execution_count": 44,
   "metadata": {},
   "outputs": [
    {
     "data": {
      "text/plain": [
       "<AxesSubplot:>"
      ]
     },
     "execution_count": 44,
     "metadata": {},
     "output_type": "execute_result"
    },
    {
     "data": {
      "image/png": "[encoded data removed]",
      "text/plain": [
       "<Figure size 432x288 with 1 Axes>"
      ]
     },
     "metadata": {
      "needs_background": "light"
     },
     "output_type": "display_data"
    }
   ],
   "source": [
    "cus2['Amount'].hist()"
   ]
  },
  {
   "cell_type": "code",
   "execution_count": 46,
   "metadata": {},
   "outputs": [],
   "source": [
    "cus2['avg_transaction_per_year'] = cus2['Transaction']/5"
   ]
  },
  {
   "cell_type": "code",
   "execution_count": 47,
   "metadata": {},
   "outputs": [
    {
     "data": {
      "text/html": [
       "<div>\n",
       "<style scoped>\n",
       "    .dataframe tbody tr th:only-of-type {\n",
       "        vertical-align: middle;\n",
       "    }\n",
       "\n",
       "    .dataframe tbody tr th {\n",
       "        vertical-align: top;\n",
       "    }\n",
       "\n",
       "    .dataframe thead th {\n",
       "        text-align: right;\n",
       "    }\n",
       "</style>\n",
       "<table border=\"1\" class=\"dataframe\">\n",
       "  <thead>\n",
       "    <tr style=\"text-align: right;\">\n",
       "      <th></th>\n",
       "      <th>Customer</th>\n",
       "      <th>Transaction</th>\n",
       "      <th>Amount</th>\n",
       "      <th>days_since_last_purchase</th>\n",
       "      <th>avg_transaction_per_year</th>\n",
       "    </tr>\n",
       "  </thead>\n",
       "  <tbody>\n",
       "    <tr>\n",
       "      <th>count</th>\n",
       "      <td>5000.000000</td>\n",
       "      <td>5000.000000</td>\n",
       "      <td>5000.000000</td>\n",
       "      <td>5000.000000</td>\n",
       "      <td>5000.000000</td>\n",
       "    </tr>\n",
       "    <tr>\n",
       "      <th>mean</th>\n",
       "      <td>2500.500000</td>\n",
       "      <td>20.000000</td>\n",
       "      <td>1301.788000</td>\n",
       "      <td>75.084000</td>\n",
       "      <td>4.000000</td>\n",
       "    </tr>\n",
       "    <tr>\n",
       "      <th>std</th>\n",
       "      <td>1443.520003</td>\n",
       "      <td>4.429935</td>\n",
       "      <td>305.022427</td>\n",
       "      <td>70.011885</td>\n",
       "      <td>0.885987</td>\n",
       "    </tr>\n",
       "    <tr>\n",
       "      <th>min</th>\n",
       "      <td>1.000000</td>\n",
       "      <td>6.000000</td>\n",
       "      <td>410.000000</td>\n",
       "      <td>5.000000</td>\n",
       "      <td>1.200000</td>\n",
       "    </tr>\n",
       "    <tr>\n",
       "      <th>25%</th>\n",
       "      <td>1250.750000</td>\n",
       "      <td>17.000000</td>\n",
       "      <td>1087.000000</td>\n",
       "      <td>24.000000</td>\n",
       "      <td>3.400000</td>\n",
       "    </tr>\n",
       "    <tr>\n",
       "      <th>50%</th>\n",
       "      <td>2500.500000</td>\n",
       "      <td>20.000000</td>\n",
       "      <td>1288.000000</td>\n",
       "      <td>53.000000</td>\n",
       "      <td>4.000000</td>\n",
       "    </tr>\n",
       "    <tr>\n",
       "      <th>75%</th>\n",
       "      <td>3750.250000</td>\n",
       "      <td>23.000000</td>\n",
       "      <td>1503.000000</td>\n",
       "      <td>104.000000</td>\n",
       "      <td>4.600000</td>\n",
       "    </tr>\n",
       "    <tr>\n",
       "      <th>max</th>\n",
       "      <td>5000.000000</td>\n",
       "      <td>39.000000</td>\n",
       "      <td>2738.000000</td>\n",
       "      <td>664.000000</td>\n",
       "      <td>7.800000</td>\n",
       "    </tr>\n",
       "  </tbody>\n",
       "</table>\n",
       "</div>"
      ],
      "text/plain": [
       "          Customer  Transaction       Amount  days_since_last_purchase  \\\n",
       "count  5000.000000  5000.000000  5000.000000               5000.000000   \n",
       "mean   2500.500000    20.000000  1301.788000                 75.084000   \n",
       "std    1443.520003     4.429935   305.022427                 70.011885   \n",
       "min       1.000000     6.000000   410.000000                  5.000000   \n",
       "25%    1250.750000    17.000000  1087.000000                 24.000000   \n",
       "50%    2500.500000    20.000000  1288.000000                 53.000000   \n",
       "75%    3750.250000    23.000000  1503.000000                104.000000   \n",
       "max    5000.000000    39.000000  2738.000000                664.000000   \n",
       "\n",
       "       avg_transaction_per_year  \n",
       "count               5000.000000  \n",
       "mean                   4.000000  \n",
       "std                    0.885987  \n",
       "min                    1.200000  \n",
       "25%                    3.400000  \n",
       "50%                    4.000000  \n",
       "75%                    4.600000  \n",
       "max                    7.800000  "
      ]
     },
     "execution_count": 47,
     "metadata": {},
     "output_type": "execute_result"
    }
   ],
   "source": [
    "cus2.describe()"
   ]
  },
  {
   "cell_type": "markdown",
   "metadata": {},
   "source": [
    "Range\n",
    "\n",
    "- Recency 5days to 1000days\n",
    "- Frequency 0 to 10 transactions per year\n",
    "- Monetary  #400 to #3000 spent"
   ]
  },
  {
   "cell_type": "code",
   "execution_count": 48,
   "metadata": {},
   "outputs": [],
   "source": [
    "recency_bin = [0,90,180,365,500,1000]\n",
    "frequency_bin = [0,2,4,6,8,10]\n",
    "monetary_bin = [0,400,1500,2000,2500,3000]"
   ]
  },
  {
   "cell_type": "code",
   "execution_count": 57,
   "metadata": {},
   "outputs": [
    {
     "data": {
      "text/html": [
       "<div>\n",
       "<style scoped>\n",
       "    .dataframe tbody tr th:only-of-type {\n",
       "        vertical-align: middle;\n",
       "    }\n",
       "\n",
       "    .dataframe tbody tr th {\n",
       "        vertical-align: top;\n",
       "    }\n",
       "\n",
       "    .dataframe thead th {\n",
       "        text-align: right;\n",
       "    }\n",
       "</style>\n",
       "<table border=\"1\" class=\"dataframe\">\n",
       "  <thead>\n",
       "    <tr style=\"text-align: right;\">\n",
       "      <th></th>\n",
       "      <th>Customer</th>\n",
       "      <th>Date</th>\n",
       "      <th>Transaction</th>\n",
       "      <th>Amount</th>\n",
       "      <th>days_since_last_purchase</th>\n",
       "      <th>avg_transaction_per_year</th>\n",
       "      <th>recency_score</th>\n",
       "      <th>frequency_score</th>\n",
       "      <th>monetary_score</th>\n",
       "    </tr>\n",
       "  </thead>\n",
       "  <tbody>\n",
       "    <tr>\n",
       "      <th>0</th>\n",
       "      <td>1</td>\n",
       "      <td>2018-08-06</td>\n",
       "      <td>15</td>\n",
       "      <td>937</td>\n",
       "      <td>66</td>\n",
       "      <td>3.0</td>\n",
       "      <td>5</td>\n",
       "      <td>2</td>\n",
       "      <td>2</td>\n",
       "    </tr>\n",
       "    <tr>\n",
       "      <th>1</th>\n",
       "      <td>2</td>\n",
       "      <td>2018-09-01</td>\n",
       "      <td>20</td>\n",
       "      <td>1390</td>\n",
       "      <td>40</td>\n",
       "      <td>4.0</td>\n",
       "      <td>5</td>\n",
       "      <td>2</td>\n",
       "      <td>2</td>\n",
       "    </tr>\n",
       "    <tr>\n",
       "      <th>2</th>\n",
       "      <td>3</td>\n",
       "      <td>2018-09-04</td>\n",
       "      <td>19</td>\n",
       "      <td>1337</td>\n",
       "      <td>37</td>\n",
       "      <td>3.8</td>\n",
       "      <td>5</td>\n",
       "      <td>2</td>\n",
       "      <td>2</td>\n",
       "    </tr>\n",
       "    <tr>\n",
       "      <th>3</th>\n",
       "      <td>4</td>\n",
       "      <td>2018-09-25</td>\n",
       "      <td>22</td>\n",
       "      <td>1549</td>\n",
       "      <td>16</td>\n",
       "      <td>4.4</td>\n",
       "      <td>5</td>\n",
       "      <td>3</td>\n",
       "      <td>3</td>\n",
       "    </tr>\n",
       "    <tr>\n",
       "      <th>4</th>\n",
       "      <td>5</td>\n",
       "      <td>2018-03-17</td>\n",
       "      <td>13</td>\n",
       "      <td>792</td>\n",
       "      <td>208</td>\n",
       "      <td>2.6</td>\n",
       "      <td>3</td>\n",
       "      <td>2</td>\n",
       "      <td>2</td>\n",
       "    </tr>\n",
       "  </tbody>\n",
       "</table>\n",
       "</div>"
      ],
      "text/plain": [
       "   Customer       Date  Transaction  Amount  days_since_last_purchase  \\\n",
       "0         1 2018-08-06           15     937                        66   \n",
       "1         2 2018-09-01           20    1390                        40   \n",
       "2         3 2018-09-04           19    1337                        37   \n",
       "3         4 2018-09-25           22    1549                        16   \n",
       "4         5 2018-03-17           13     792                       208   \n",
       "\n",
       "   avg_transaction_per_year recency_score frequency_score monetary_score  \n",
       "0                       3.0             5               2              2  \n",
       "1                       4.0             5               2              2  \n",
       "2                       3.8             5               2              2  \n",
       "3                       4.4             5               3              3  \n",
       "4                       2.6             3               2              2  "
      ]
     },
     "execution_count": 57,
     "metadata": {},
     "output_type": "execute_result"
    }
   ],
   "source": [
    "cus2['recency_score'] = pd.cut(cus2['days_since_last_purchase'], bins = recency_bin, labels = ['5','4','3','2','1'])\n",
    "cus2['frequency_score'] = pd.cut(cus2['avg_transaction_per_year'], bins = frequency_bin, labels = ['1','2','3','4','5'])\n",
    "cus2['monetary_score'] = pd.cut(cus2['Amount'], bins = monetary_bin, labels = ['1','2','3','4','5'])\n",
    "cus2.head()"
   ]
  },
  {
   "cell_type": "code",
   "execution_count": 58,
   "metadata": {},
   "outputs": [
    {
     "data": {
      "text/plain": [
       "0       522\n",
       "1       522\n",
       "2       522\n",
       "3       533\n",
       "4       322\n",
       "       ... \n",
       "4995    522\n",
       "4996    432\n",
       "4997    222\n",
       "4998    522\n",
       "4999    332\n",
       "Length: 5000, dtype: object"
      ]
     },
     "execution_count": 58,
     "metadata": {},
     "output_type": "execute_result"
    }
   ],
   "source": [
    "# string the recency, frequency, and monetary columns together to create the RFM score\n",
    "\n",
    "cus2['recency_score'].astype(str) + cus2['frequency_score'].astype(str) + cus2['monetary_score'].astype(str)"
   ]
  },
  {
   "cell_type": "code",
   "execution_count": 61,
   "metadata": {},
   "outputs": [
    {
     "data": {
      "text/plain": [
       "0       522\n",
       "1       522\n",
       "2       522\n",
       "3       533\n",
       "4       322\n",
       "       ... \n",
       "4995    522\n",
       "4996    432\n",
       "4997    222\n",
       "4998    522\n",
       "4999    332\n",
       "Name: recency_score, Length: 5000, dtype: object"
      ]
     },
     "execution_count": 61,
     "metadata": {},
     "output_type": "execute_result"
    }
   ],
   "source": [
    "cus2['recency_score'].str.cat(cus2[['frequency_score','monetary_score']])"
   ]
  },
  {
   "cell_type": "code",
   "execution_count": 62,
   "metadata": {},
   "outputs": [
    {
     "data": {
      "text/html": [
       "<div>\n",
       "<style scoped>\n",
       "    .dataframe tbody tr th:only-of-type {\n",
       "        vertical-align: middle;\n",
       "    }\n",
       "\n",
       "    .dataframe tbody tr th {\n",
       "        vertical-align: top;\n",
       "    }\n",
       "\n",
       "    .dataframe thead th {\n",
       "        text-align: right;\n",
       "    }\n",
       "</style>\n",
       "<table border=\"1\" class=\"dataframe\">\n",
       "  <thead>\n",
       "    <tr style=\"text-align: right;\">\n",
       "      <th></th>\n",
       "      <th>Customer</th>\n",
       "      <th>Date</th>\n",
       "      <th>Transaction</th>\n",
       "      <th>Amount</th>\n",
       "      <th>days_since_last_purchase</th>\n",
       "      <th>avg_transaction_per_year</th>\n",
       "      <th>recency_score</th>\n",
       "      <th>frequency_score</th>\n",
       "      <th>monetary_score</th>\n",
       "      <th>RFM_score</th>\n",
       "    </tr>\n",
       "  </thead>\n",
       "  <tbody>\n",
       "    <tr>\n",
       "      <th>0</th>\n",
       "      <td>1</td>\n",
       "      <td>2018-08-06</td>\n",
       "      <td>15</td>\n",
       "      <td>937</td>\n",
       "      <td>66</td>\n",
       "      <td>3.0</td>\n",
       "      <td>5</td>\n",
       "      <td>2</td>\n",
       "      <td>2</td>\n",
       "      <td>522</td>\n",
       "    </tr>\n",
       "    <tr>\n",
       "      <th>1</th>\n",
       "      <td>2</td>\n",
       "      <td>2018-09-01</td>\n",
       "      <td>20</td>\n",
       "      <td>1390</td>\n",
       "      <td>40</td>\n",
       "      <td>4.0</td>\n",
       "      <td>5</td>\n",
       "      <td>2</td>\n",
       "      <td>2</td>\n",
       "      <td>522</td>\n",
       "    </tr>\n",
       "    <tr>\n",
       "      <th>2</th>\n",
       "      <td>3</td>\n",
       "      <td>2018-09-04</td>\n",
       "      <td>19</td>\n",
       "      <td>1337</td>\n",
       "      <td>37</td>\n",
       "      <td>3.8</td>\n",
       "      <td>5</td>\n",
       "      <td>2</td>\n",
       "      <td>2</td>\n",
       "      <td>522</td>\n",
       "    </tr>\n",
       "    <tr>\n",
       "      <th>3</th>\n",
       "      <td>4</td>\n",
       "      <td>2018-09-25</td>\n",
       "      <td>22</td>\n",
       "      <td>1549</td>\n",
       "      <td>16</td>\n",
       "      <td>4.4</td>\n",
       "      <td>5</td>\n",
       "      <td>3</td>\n",
       "      <td>3</td>\n",
       "      <td>533</td>\n",
       "    </tr>\n",
       "    <tr>\n",
       "      <th>4</th>\n",
       "      <td>5</td>\n",
       "      <td>2018-03-17</td>\n",
       "      <td>13</td>\n",
       "      <td>792</td>\n",
       "      <td>208</td>\n",
       "      <td>2.6</td>\n",
       "      <td>3</td>\n",
       "      <td>2</td>\n",
       "      <td>2</td>\n",
       "      <td>322</td>\n",
       "    </tr>\n",
       "  </tbody>\n",
       "</table>\n",
       "</div>"
      ],
      "text/plain": [
       "   Customer       Date  Transaction  Amount  days_since_last_purchase  \\\n",
       "0         1 2018-08-06           15     937                        66   \n",
       "1         2 2018-09-01           20    1390                        40   \n",
       "2         3 2018-09-04           19    1337                        37   \n",
       "3         4 2018-09-25           22    1549                        16   \n",
       "4         5 2018-03-17           13     792                       208   \n",
       "\n",
       "   avg_transaction_per_year recency_score frequency_score monetary_score  \\\n",
       "0                       3.0             5               2              2   \n",
       "1                       4.0             5               2              2   \n",
       "2                       3.8             5               2              2   \n",
       "3                       4.4             5               3              3   \n",
       "4                       2.6             3               2              2   \n",
       "\n",
       "  RFM_score  \n",
       "0       522  \n",
       "1       522  \n",
       "2       522  \n",
       "3       533  \n",
       "4       322  "
      ]
     },
     "execution_count": 62,
     "metadata": {},
     "output_type": "execute_result"
    }
   ],
   "source": [
    "cus2['RFM_score'] = cus2['recency_score'].str.cat(cus2[['frequency_score','monetary_score']])\n",
    "cus2.head()"
   ]
  },
  {
   "cell_type": "markdown",
   "metadata": {},
   "source": [
    "The good five and Lost\n",
    "\n",
    "Champions: Bought the most recent, frequent, and have spent the most money\n",
    "\n",
    "Loyal Customers: Spend a good amount of money, and do so frequently\n",
    "\n",
    "Potential Loyalist: New customers that have spent more than average and done so more than once\n",
    "\n",
    "Recent customers: Have bought very recently, but not frequently\n",
    "\n",
    "Promising: New customers that haven't spent much, likely to be first order\n",
    "\n",
    "Lost: Bring back with promotions"
   ]
  },
  {
   "cell_type": "markdown",
   "metadata": {},
   "source": [
    "- '522' - Most recent, buys less frequently, spends less moderately - Recent Customers\n",
    "- '532' - Most recent, buys frequently on the average, spends less moderately - Recent Customers\n",
    "- '533' - Most recent, buys frequently on the average, spends moderately - Potential Loyalist\n",
    "- '322' - Bought within the last one year, buys less frequently, and spends low - Bring them with promotion\n",
    "- '422' - Bought within the last 6 months, buys less frequnetly, and spends low - Can't Loose/Promising\n",
    "- '432' - Bought within the last 6 months, buys frequently on the average, spends low - Can't Loose/Promising\n",
    "- '312' - Bought within the last one year, buys only once a year, and spends low - Bring them with promotion\n",
    "- '444' - Bought within the last 6 months, buys frequently, and spends high - Loyal\n",
    "- '433' - Bought within the last 6 months, buys frequently on the average, and spends moderately - Potential Loyalist\n",
    "- '512' - Most recent, comes once a year, and spends low - Can't Loose/Promising\n",
    "- '332' - Bought within the last one year, buys frequently on the average, and spends low - Can't Loose/Promising\n",
    "- '412' - Bought within the last 6 months, comes once a year, spends low - Bring them with promotion\n",
    "- '543' - Most recent, buys frequently, and spends moderately - Loyal\n",
    "- '333' - Bought within the last one year, buys frequently on the average, and spends moderately - Can't Loose/Promising\n",
    "- '222' - Bought in the last 2 years, comes less frequently, and spends low - Bring them with promotion\n",
    "- '434' - Bought within the last 6 months, buys frequently on the average, and a big spender - Loyal\n",
    "- '544' - Most recent, comes frequent than the normal, and spends big - Champions\n",
    "- '523' - Most recent, comes less frequent that normal, and spends moderately - Potential\n",
    "- '443' - Bought within the last 6 months, comes frequent than normal, and spends moderately - Loyalist\n",
    "- '212' - Bought in the last one year, comes once a year, and spends low - Bring them with promotion\n",
    "- '534' - Most recent, comes frequently on the average, big spender - Loyalist\n",
    "- '423' - Bought in the last 6 months, comes less than frequent, and spends moderately - Recent customers\n",
    "- '344' - Bought in the last one year, comes frequent than normal, and spends big - Potential Loyalist\n",
    "- '232' - Bought in the last 2 years, comes frequently, and spends low - Bring them with promotion\n",
    "- '122' - Bought in the last 3 years or more, comes less than frequent, and spends low - Bring back with promotion\n",
    "- '545' - Most recent, comes more frequent than normal, and the biggest spender - Champions\n",
    "- '112' - Bought in the last 3 years or more, comes once a year, spends low - Bring back with promotion"
   ]
  },
  {
   "cell_type": "code",
   "execution_count": 67,
   "metadata": {},
   "outputs": [],
   "source": [
    "conditions = [(cus2['RFM_score'].str.contains('322|312|222|412|212|232|122|112')),\n",
    "              (cus2['RFM_score'].str.contains('522|532|423')),\n",
    "              (cus2['RFM_score'].str.contains('422|432|512|332|333')),\n",
    "              (cus2['RFM_score'].str.contains('533|433|344|523')),\n",
    "              (cus2['RFM_score'].str.contains('444|543|434|443|534')),\n",
    "              (cus2['RFM_score'].str.contains('545|544'))]\n",
    "\n",
    "segments = ['Lost','Recent Customer','Promising','Potential Loyalist','Loyal Customer','Champion']"
   ]
  },
  {
   "cell_type": "code",
   "execution_count": 68,
   "metadata": {},
   "outputs": [
    {
     "data": {
      "text/html": [
       "<div>\n",
       "<style scoped>\n",
       "    .dataframe tbody tr th:only-of-type {\n",
       "        vertical-align: middle;\n",
       "    }\n",
       "\n",
       "    .dataframe tbody tr th {\n",
       "        vertical-align: top;\n",
       "    }\n",
       "\n",
       "    .dataframe thead th {\n",
       "        text-align: right;\n",
       "    }\n",
       "</style>\n",
       "<table border=\"1\" class=\"dataframe\">\n",
       "  <thead>\n",
       "    <tr style=\"text-align: right;\">\n",
       "      <th></th>\n",
       "      <th>Customer</th>\n",
       "      <th>Date</th>\n",
       "      <th>Transaction</th>\n",
       "      <th>Amount</th>\n",
       "      <th>days_since_last_purchase</th>\n",
       "      <th>avg_transaction_per_year</th>\n",
       "      <th>recency_score</th>\n",
       "      <th>frequency_score</th>\n",
       "      <th>monetary_score</th>\n",
       "      <th>RFM_score</th>\n",
       "      <th>segment</th>\n",
       "    </tr>\n",
       "  </thead>\n",
       "  <tbody>\n",
       "    <tr>\n",
       "      <th>0</th>\n",
       "      <td>1</td>\n",
       "      <td>2018-08-06</td>\n",
       "      <td>15</td>\n",
       "      <td>937</td>\n",
       "      <td>66</td>\n",
       "      <td>3.0</td>\n",
       "      <td>5</td>\n",
       "      <td>2</td>\n",
       "      <td>2</td>\n",
       "      <td>522</td>\n",
       "      <td>Recent Customer</td>\n",
       "    </tr>\n",
       "    <tr>\n",
       "      <th>1</th>\n",
       "      <td>2</td>\n",
       "      <td>2018-09-01</td>\n",
       "      <td>20</td>\n",
       "      <td>1390</td>\n",
       "      <td>40</td>\n",
       "      <td>4.0</td>\n",
       "      <td>5</td>\n",
       "      <td>2</td>\n",
       "      <td>2</td>\n",
       "      <td>522</td>\n",
       "      <td>Recent Customer</td>\n",
       "    </tr>\n",
       "    <tr>\n",
       "      <th>2</th>\n",
       "      <td>3</td>\n",
       "      <td>2018-09-04</td>\n",
       "      <td>19</td>\n",
       "      <td>1337</td>\n",
       "      <td>37</td>\n",
       "      <td>3.8</td>\n",
       "      <td>5</td>\n",
       "      <td>2</td>\n",
       "      <td>2</td>\n",
       "      <td>522</td>\n",
       "      <td>Recent Customer</td>\n",
       "    </tr>\n",
       "    <tr>\n",
       "      <th>3</th>\n",
       "      <td>4</td>\n",
       "      <td>2018-09-25</td>\n",
       "      <td>22</td>\n",
       "      <td>1549</td>\n",
       "      <td>16</td>\n",
       "      <td>4.4</td>\n",
       "      <td>5</td>\n",
       "      <td>3</td>\n",
       "      <td>3</td>\n",
       "      <td>533</td>\n",
       "      <td>Potential Loyalist</td>\n",
       "    </tr>\n",
       "    <tr>\n",
       "      <th>4</th>\n",
       "      <td>5</td>\n",
       "      <td>2018-03-17</td>\n",
       "      <td>13</td>\n",
       "      <td>792</td>\n",
       "      <td>208</td>\n",
       "      <td>2.6</td>\n",
       "      <td>3</td>\n",
       "      <td>2</td>\n",
       "      <td>2</td>\n",
       "      <td>322</td>\n",
       "      <td>Lost</td>\n",
       "    </tr>\n",
       "  </tbody>\n",
       "</table>\n",
       "</div>"
      ],
      "text/plain": [
       "   Customer       Date  Transaction  Amount  days_since_last_purchase  \\\n",
       "0         1 2018-08-06           15     937                        66   \n",
       "1         2 2018-09-01           20    1390                        40   \n",
       "2         3 2018-09-04           19    1337                        37   \n",
       "3         4 2018-09-25           22    1549                        16   \n",
       "4         5 2018-03-17           13     792                       208   \n",
       "\n",
       "   avg_transaction_per_year recency_score frequency_score monetary_score  \\\n",
       "0                       3.0             5               2              2   \n",
       "1                       4.0             5               2              2   \n",
       "2                       3.8             5               2              2   \n",
       "3                       4.4             5               3              3   \n",
       "4                       2.6             3               2              2   \n",
       "\n",
       "  RFM_score             segment  \n",
       "0       522     Recent Customer  \n",
       "1       522     Recent Customer  \n",
       "2       522     Recent Customer  \n",
       "3       533  Potential Loyalist  \n",
       "4       322                Lost  "
      ]
     },
     "execution_count": 68,
     "metadata": {},
     "output_type": "execute_result"
    }
   ],
   "source": [
    "cus2['segment'] = np.select(conditions,segments)\n",
    "cus2.head()"
   ]
  },
  {
   "cell_type": "code",
   "execution_count": 81,
   "metadata": {},
   "outputs": [
    {
     "data": {
      "text/html": [
       "<div>\n",
       "<style scoped>\n",
       "    .dataframe tbody tr th:only-of-type {\n",
       "        vertical-align: middle;\n",
       "    }\n",
       "\n",
       "    .dataframe tbody tr th {\n",
       "        vertical-align: top;\n",
       "    }\n",
       "\n",
       "    .dataframe thead th {\n",
       "        text-align: right;\n",
       "    }\n",
       "</style>\n",
       "<table border=\"1\" class=\"dataframe\">\n",
       "  <thead>\n",
       "    <tr style=\"text-align: right;\">\n",
       "      <th></th>\n",
       "      <th>segment</th>\n",
       "      <th>num_of_cus</th>\n",
       "      <th>count_of_trans</th>\n",
       "      <th>total_spending</th>\n",
       "    </tr>\n",
       "  </thead>\n",
       "  <tbody>\n",
       "    <tr>\n",
       "      <th>0</th>\n",
       "      <td>Champion</td>\n",
       "      <td>32</td>\n",
       "      <td>1036</td>\n",
       "      <td>70259</td>\n",
       "    </tr>\n",
       "    <tr>\n",
       "      <th>1</th>\n",
       "      <td>Lost</td>\n",
       "      <td>333</td>\n",
       "      <td>5204</td>\n",
       "      <td>337413</td>\n",
       "    </tr>\n",
       "    <tr>\n",
       "      <th>2</th>\n",
       "      <td>Loyal Customer</td>\n",
       "      <td>45</td>\n",
       "      <td>1373</td>\n",
       "      <td>91759</td>\n",
       "    </tr>\n",
       "    <tr>\n",
       "      <th>3</th>\n",
       "      <td>Potential Loyalist</td>\n",
       "      <td>1150</td>\n",
       "      <td>28862</td>\n",
       "      <td>1924756</td>\n",
       "    </tr>\n",
       "    <tr>\n",
       "      <th>4</th>\n",
       "      <td>Promising</td>\n",
       "      <td>961</td>\n",
       "      <td>17606</td>\n",
       "      <td>1134292</td>\n",
       "    </tr>\n",
       "    <tr>\n",
       "      <th>5</th>\n",
       "      <td>Recent Customer</td>\n",
       "      <td>2479</td>\n",
       "      <td>45919</td>\n",
       "      <td>2950461</td>\n",
       "    </tr>\n",
       "  </tbody>\n",
       "</table>\n",
       "</div>"
      ],
      "text/plain": [
       "              segment  num_of_cus  count_of_trans  total_spending\n",
       "0            Champion          32            1036           70259\n",
       "1                Lost         333            5204          337413\n",
       "2      Loyal Customer          45            1373           91759\n",
       "3  Potential Loyalist        1150           28862         1924756\n",
       "4           Promising         961           17606         1134292\n",
       "5     Recent Customer        2479           45919         2950461"
      ]
     },
     "execution_count": 81,
     "metadata": {},
     "output_type": "execute_result"
    }
   ],
   "source": [
    "segment = cus2.groupby('segment').agg(num_of_cus = ('Customer','count'),\n",
    "                             count_of_trans = ('Transaction','sum'),\n",
    "                             total_spending = ('Amount','sum')\n",
    "                            ).reset_index()\n",
    "segment"
   ]
  },
  {
   "cell_type": "code",
   "execution_count": 96,
   "metadata": {},
   "outputs": [
    {
     "data": {
      "text/html": [
       "<style  type=\"text/css\" >\n",
       "</style><table id=\"T_ed07ec9e_d82f_11eb_8392_d481d7695dee\" ><thead>    <tr>        <th class=\"blank level0\" ></th>        <th class=\"col_heading level0 col0\" >segment</th>        <th class=\"col_heading level0 col1\" >num_of_cus</th>        <th class=\"col_heading level0 col2\" >count_of_trans</th>        <th class=\"col_heading level0 col3\" >total_spending</th>        <th class=\"col_heading level0 col4\" >pct_of_seg</th>    </tr></thead><tbody>\n",
       "                <tr>\n",
       "                        <th id=\"T_ed07ec9e_d82f_11eb_8392_d481d7695deelevel0_row0\" class=\"row_heading level0 row0\" >0</th>\n",
       "                        <td id=\"T_ed07ec9e_d82f_11eb_8392_d481d7695deerow0_col0\" class=\"data row0 col0\" >Champion</td>\n",
       "                        <td id=\"T_ed07ec9e_d82f_11eb_8392_d481d7695deerow0_col1\" class=\"data row0 col1\" >32</td>\n",
       "                        <td id=\"T_ed07ec9e_d82f_11eb_8392_d481d7695deerow0_col2\" class=\"data row0 col2\" >1036</td>\n",
       "                        <td id=\"T_ed07ec9e_d82f_11eb_8392_d481d7695deerow0_col3\" class=\"data row0 col3\" >70259</td>\n",
       "                        <td id=\"T_ed07ec9e_d82f_11eb_8392_d481d7695deerow0_col4\" class=\"data row0 col4\" >0.6%</td>\n",
       "            </tr>\n",
       "            <tr>\n",
       "                        <th id=\"T_ed07ec9e_d82f_11eb_8392_d481d7695deelevel0_row1\" class=\"row_heading level0 row1\" >1</th>\n",
       "                        <td id=\"T_ed07ec9e_d82f_11eb_8392_d481d7695deerow1_col0\" class=\"data row1 col0\" >Lost</td>\n",
       "                        <td id=\"T_ed07ec9e_d82f_11eb_8392_d481d7695deerow1_col1\" class=\"data row1 col1\" >333</td>\n",
       "                        <td id=\"T_ed07ec9e_d82f_11eb_8392_d481d7695deerow1_col2\" class=\"data row1 col2\" >5204</td>\n",
       "                        <td id=\"T_ed07ec9e_d82f_11eb_8392_d481d7695deerow1_col3\" class=\"data row1 col3\" >337413</td>\n",
       "                        <td id=\"T_ed07ec9e_d82f_11eb_8392_d481d7695deerow1_col4\" class=\"data row1 col4\" >6.7%</td>\n",
       "            </tr>\n",
       "            <tr>\n",
       "                        <th id=\"T_ed07ec9e_d82f_11eb_8392_d481d7695deelevel0_row2\" class=\"row_heading level0 row2\" >2</th>\n",
       "                        <td id=\"T_ed07ec9e_d82f_11eb_8392_d481d7695deerow2_col0\" class=\"data row2 col0\" >Loyal Customer</td>\n",
       "                        <td id=\"T_ed07ec9e_d82f_11eb_8392_d481d7695deerow2_col1\" class=\"data row2 col1\" >45</td>\n",
       "                        <td id=\"T_ed07ec9e_d82f_11eb_8392_d481d7695deerow2_col2\" class=\"data row2 col2\" >1373</td>\n",
       "                        <td id=\"T_ed07ec9e_d82f_11eb_8392_d481d7695deerow2_col3\" class=\"data row2 col3\" >91759</td>\n",
       "                        <td id=\"T_ed07ec9e_d82f_11eb_8392_d481d7695deerow2_col4\" class=\"data row2 col4\" >0.9%</td>\n",
       "            </tr>\n",
       "            <tr>\n",
       "                        <th id=\"T_ed07ec9e_d82f_11eb_8392_d481d7695deelevel0_row3\" class=\"row_heading level0 row3\" >3</th>\n",
       "                        <td id=\"T_ed07ec9e_d82f_11eb_8392_d481d7695deerow3_col0\" class=\"data row3 col0\" >Potential Loyalist</td>\n",
       "                        <td id=\"T_ed07ec9e_d82f_11eb_8392_d481d7695deerow3_col1\" class=\"data row3 col1\" >1150</td>\n",
       "                        <td id=\"T_ed07ec9e_d82f_11eb_8392_d481d7695deerow3_col2\" class=\"data row3 col2\" >28862</td>\n",
       "                        <td id=\"T_ed07ec9e_d82f_11eb_8392_d481d7695deerow3_col3\" class=\"data row3 col3\" >1924756</td>\n",
       "                        <td id=\"T_ed07ec9e_d82f_11eb_8392_d481d7695deerow3_col4\" class=\"data row3 col4\" >23.0%</td>\n",
       "            </tr>\n",
       "            <tr>\n",
       "                        <th id=\"T_ed07ec9e_d82f_11eb_8392_d481d7695deelevel0_row4\" class=\"row_heading level0 row4\" >4</th>\n",
       "                        <td id=\"T_ed07ec9e_d82f_11eb_8392_d481d7695deerow4_col0\" class=\"data row4 col0\" >Promising</td>\n",
       "                        <td id=\"T_ed07ec9e_d82f_11eb_8392_d481d7695deerow4_col1\" class=\"data row4 col1\" >961</td>\n",
       "                        <td id=\"T_ed07ec9e_d82f_11eb_8392_d481d7695deerow4_col2\" class=\"data row4 col2\" >17606</td>\n",
       "                        <td id=\"T_ed07ec9e_d82f_11eb_8392_d481d7695deerow4_col3\" class=\"data row4 col3\" >1134292</td>\n",
       "                        <td id=\"T_ed07ec9e_d82f_11eb_8392_d481d7695deerow4_col4\" class=\"data row4 col4\" >19.2%</td>\n",
       "            </tr>\n",
       "            <tr>\n",
       "                        <th id=\"T_ed07ec9e_d82f_11eb_8392_d481d7695deelevel0_row5\" class=\"row_heading level0 row5\" >5</th>\n",
       "                        <td id=\"T_ed07ec9e_d82f_11eb_8392_d481d7695deerow5_col0\" class=\"data row5 col0\" >Recent Customer</td>\n",
       "                        <td id=\"T_ed07ec9e_d82f_11eb_8392_d481d7695deerow5_col1\" class=\"data row5 col1\" >2479</td>\n",
       "                        <td id=\"T_ed07ec9e_d82f_11eb_8392_d481d7695deerow5_col2\" class=\"data row5 col2\" >45919</td>\n",
       "                        <td id=\"T_ed07ec9e_d82f_11eb_8392_d481d7695deerow5_col3\" class=\"data row5 col3\" >2950461</td>\n",
       "                        <td id=\"T_ed07ec9e_d82f_11eb_8392_d481d7695deerow5_col4\" class=\"data row5 col4\" >49.6%</td>\n",
       "            </tr>\n",
       "    </tbody></table>"
      ],
      "text/plain": [
       "<pandas.io.formats.style.Styler at 0x1782339b940>"
      ]
     },
     "execution_count": 96,
     "metadata": {},
     "output_type": "execute_result"
    }
   ],
   "source": [
    "segment['pct_of_seg'] = segment['num_of_cus']/segment['num_of_cus'].sum()\n",
    "\n",
    "segment.style.format({'pct_of_seg':'{:.1%}'})"
   ]
  },
  {
   "cell_type": "code",
   "execution_count": 160,
   "metadata": {},
   "outputs": [
    {
     "data": {
      "image/png": "[encoded data removed]",
      "text/plain": [
       "<Figure size 432x288 with 1 Axes>"
      ]
     },
     "metadata": {},
     "output_type": "display_data"
    }
   ],
   "source": [
    "x = segment['num_of_cus']\n",
    "labels = segment['segment']\n",
    "colors = ['#ff9999','#66b3ff','#99ff99','#5369AC','#AC9653','#53AC6A']\n",
    "explode = [0.5, 0.5, 0.5, 0, 0, 0]\n",
    "\n",
    "#plt.figure(figsize=(15,10))\n",
    "\n",
    "fig, ax = plt.subplots()\n",
    "ax.pie(x, labels = labels, radius = 3, autopct='%.1f%%', colors = colors, explode = explode, \n",
    "       textprops={'fontsize': 14}, startangle = 270, labeldistance=1)\n",
    "\n",
    "#textprops=dict(color=\"w\")\n",
    "#ax.legend(wedges, ingredients,\n",
    "          #title=\"Ingredients\",\n",
    "          #loc=\"center left\",\n",
    "          #bbox_to_anchor=(1, 0, 0.5, 1))\n",
    "\n",
    "#ax.set_title('Customer Segments',loc='right')\n",
    "#plt.title('Customer Segments')\n",
    "\n",
    "plt.show()"
   ]
  },
  {
   "cell_type": "code",
   "execution_count": null,
   "metadata": {},
   "outputs": [],
   "source": []
  }
 ],
 "metadata": {
  "kernelspec": {
   "display_name": "Python 3",
   "language": "python",
   "name": "python3"
  },
  "language_info": {
   "codemirror_mode": {
    "name": "ipython",
    "version": 3
   },
   "file_extension": ".py",
   "mimetype": "text/x-python",
   "name": "python",
   "nbconvert_exporter": "python",
   "pygments_lexer": "ipython3",
   "version": "3.8.5"
  }
 },
 "nbformat": 4,
 "nbformat_minor": 4
}
